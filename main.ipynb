{
 "cells": [
  {
   "cell_type": "markdown",
   "metadata": {},
   "source": [
    "## programa notebook para rodar no jupyter, vscode ou equivalente.\n",
    "\n",
    "vinicius W"
   ]
  },
  {
   "cell_type": "code",
   "execution_count": null,
   "metadata": {},
   "outputs": [],
   "source": [
    "%pip install flask"
   ]
  },
  {
   "cell_type": "code",
   "execution_count": null,
   "metadata": {},
   "outputs": [],
   "source": [
    "from flask import Flask , Response , redirect\n",
    "app = Flask(\"\")#__name__)\n",
    "\n",
    "@app.route('/')\n",
    "def hello():\n",
    "    return redirect(\"/index.html\", code=302)\n",
    "\n",
    "get_resource = lambda *args:\"<html><head/><body/></html>\"\n",
    "\n",
    "@app.route('/<path:path>')\n",
    "def __get_resource( path ):  # pragma: no cover\n",
    "    global get_resource\n",
    "    return get_resource( path )\n",
    "\n",
    "app.debug = False\n",
    "launcher = lambda: [ app.run(host='127.0.0.1',port=18080) for _ in range( 3 ) ]"
   ]
  },
  {
   "cell_type": "code",
   "execution_count": null,
   "metadata": {},
   "outputs": [],
   "source": [
    "\n",
    "### em ambiente de testes\n",
    "from threading import Thread\n",
    "Thread(target=launcher, args=() ).start() ### inicia asincrono, uma thread em loop trabalhando no server enquanto mechemos no get_resource abaixo ou outras @app.route('/') .\n",
    "\n",
    "### em ambiente produção\n",
    "# launcher()"
   ]
  },
  {
   "cell_type": "code",
   "execution_count": null,
   "metadata": {},
   "outputs": [],
   "source": [
    "raise Exception(\"Sample, não usar ainda.\")\n",
    "\n",
    "from sqlalchemy import Integer, String\n",
    "from sqlalchemy.orm import Mapped, mapped_column\n",
    "\n",
    "from sqlalchemy import create_engine, desc, asc\n",
    "from sqlalchemy.orm import sessionmaker\n",
    "from sqlalchemy.ext.automap import automap_base\n",
    "\n",
    "\n",
    "class User(db.Model):\n",
    "    id: Mapped[int] = mapped_column(Integer, primary_key=True)\n",
    "    username: Mapped[str] = mapped_column(String, unique=True, nullable=False)\n",
    "    email: Mapped[str] = mapped_column(String)\n",
    "\n",
    "# with app.app_context():\n",
    "#     db.create_all()\n",
    "\n",
    "@app.route(\"/users\")\n",
    "def user_list():\n",
    "    users = db.session.execute(db.select(User).order_by(User.username)).scalars()\n",
    "    return render_template(\"user/list.html\", users=users)\n",
    "\n",
    "@app.route(\"/users/create\", methods=[\"GET\", \"POST\"])\n",
    "def user_create():\n",
    "    if request.method == \"POST\":\n",
    "        user = User(\n",
    "            username=request.form[\"username\"],\n",
    "            email=request.form[\"email\"],\n",
    "        )\n",
    "        db.session.add(user)\n",
    "        db.session.commit()\n",
    "        return redirect(url_for(\"user_detail\", id=user.id))\n",
    "    return render_template(\"user/create.html\")\n",
    "\n",
    "@app.route(\"/user/<int:id>\")\n",
    "def user_detail(id):\n",
    "    user = db.get_or_404(User, id)\n",
    "    return render_template(\"user/detail.html\", user=user)\n",
    "\n",
    "@app.route(\"/user/<int:id>/delete\", methods=[\"GET\", \"POST\"])\n",
    "def user_delete(id):\n",
    "    user = db.get_or_404(User, id)\n",
    "\n",
    "    if request.method == \"POST\":\n",
    "        db.session.delete(user)\n",
    "        db.session.commit()\n",
    "        return redirect(url_for(\"user_list\"))\n",
    "\n",
    "    return render_template(\"user/delete.html\", user=user)"
   ]
  }
 ],
 "metadata": {
  "language_info": {
   "name": "python"
  }
 },
 "nbformat": 4,
 "nbformat_minor": 2
}
