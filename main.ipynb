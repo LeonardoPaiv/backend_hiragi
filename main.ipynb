{
 "cells": [
  {
   "cell_type": "markdown",
   "metadata": {},
   "source": [
    "## programa notebook para rodar no jupyter, vscode ou equivalente.\n",
    "\n",
    "vinicius W"
   ]
  },
  {
   "cell_type": "code",
   "execution_count": null,
   "metadata": {},
   "outputs": [],
   "source": [
    "%pip install flask"
   ]
  },
  {
   "cell_type": "code",
   "execution_count": null,
   "metadata": {},
   "outputs": [],
   "source": [
    "from flask import Flask , Response , redirect\n",
    "app = Flask(\"\")#__name__)\n",
    "\n",
    "@app.route('/')\n",
    "def hello():\n",
    "    return redirect(\"/index.html\", code=302)\n",
    "\n",
    "get_resource = lambda *args:\"<html><head/><body/></html>\"\n",
    "@app.route('/<path:path>')\n",
    "def __get_resource( path ):  # pragma: no cover\n",
    "    global get_resource\n",
    "    return get_resource( path )\n",
    "\n",
    "app.debug = False\n",
    "launcher = lambda: [ app.run(host='127.0.0.1',port=18080) for _ in range( 3 ) ]\n",
    "\n",
    "### em ambiente de testes\n",
    "from threading import Thread\n",
    "Thread(target=launcher, args=() ).start() ### inicia asincrono, uma thread em loop trabalhando no server enquanto mechemos no get_resource abaixo ou outras @app.route('/') .\n",
    "\n",
    "### em ambiente produção\n",
    "# launcher()"
   ]
  },
  {
   "cell_type": "code",
   "execution_count": null,
   "metadata": {},
   "outputs": [],
   "source": []
  }
 ],
 "metadata": {
  "language_info": {
   "name": "python"
  }
 },
 "nbformat": 4,
 "nbformat_minor": 2
}
