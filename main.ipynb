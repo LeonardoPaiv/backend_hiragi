{
 "cells": [
  {
   "cell_type": "markdown",
   "metadata": {},
   "source": [
    "## programa notebook para rodar no jupyter, vscode ou equivalente.\n",
    "\n",
    "vinicius W"
   ]
  },
  {
   "cell_type": "markdown",
   "metadata": {},
   "source": [
    "## Flask ( http server )"
   ]
  },
  {
   "cell_type": "code",
   "execution_count": 3,
   "metadata": {},
   "outputs": [
    {
     "name": "stdout",
     "output_type": "stream",
     "text": [
      "Collecting flask\n",
      "  Using cached flask-3.0.0-py3-none-any.whl.metadata (3.6 kB)\n",
      "Collecting Werkzeug>=3.0.0 (from flask)\n",
      "  Using cached werkzeug-3.0.1-py3-none-any.whl.metadata (4.1 kB)\n",
      "Collecting Jinja2>=3.1.2 (from flask)\n",
      "  Downloading Jinja2-3.1.2-py3-none-any.whl (133 kB)\n",
      "\u001b[2K     \u001b[90m━━━━━━━━━━━━━━━━━━━━━━━━━━━━━━━━━━━━━━━\u001b[0m \u001b[32m133.1/133.1 kB\u001b[0m \u001b[31m3.0 MB/s\u001b[0m eta \u001b[36m0:00:00\u001b[0ma \u001b[36m0:00:01\u001b[0m\n",
      "\u001b[?25hCollecting itsdangerous>=2.1.2 (from flask)\n",
      "  Using cached itsdangerous-2.1.2-py3-none-any.whl (15 kB)\n",
      "Collecting click>=8.1.3 (from flask)\n",
      "  Using cached click-8.1.7-py3-none-any.whl.metadata (3.0 kB)\n",
      "Collecting blinker>=1.6.2 (from flask)\n",
      "  Using cached blinker-1.6.3-py3-none-any.whl.metadata (1.9 kB)\n",
      "Requirement already satisfied: importlib-metadata>=3.6.0 in ./.venv/lib/python3.8/site-packages (from flask) (6.8.0)\n",
      "Requirement already satisfied: zipp>=0.5 in ./.venv/lib/python3.8/site-packages (from importlib-metadata>=3.6.0->flask) (3.17.0)\n",
      "Collecting MarkupSafe>=2.0 (from Jinja2>=3.1.2->flask)\n",
      "  Downloading MarkupSafe-2.1.3-cp38-cp38-manylinux_2_17_x86_64.manylinux2014_x86_64.whl.metadata (3.0 kB)\n",
      "Using cached flask-3.0.0-py3-none-any.whl (99 kB)\n",
      "Using cached blinker-1.6.3-py3-none-any.whl (13 kB)\n",
      "Using cached click-8.1.7-py3-none-any.whl (97 kB)\n",
      "Using cached werkzeug-3.0.1-py3-none-any.whl (226 kB)\n",
      "Downloading MarkupSafe-2.1.3-cp38-cp38-manylinux_2_17_x86_64.manylinux2014_x86_64.whl (25 kB)\n",
      "Installing collected packages: MarkupSafe, itsdangerous, click, blinker, Werkzeug, Jinja2, flask\n",
      "Successfully installed Jinja2-3.1.2 MarkupSafe-2.1.3 Werkzeug-3.0.1 blinker-1.6.3 click-8.1.7 flask-3.0.0 itsdangerous-2.1.2\n",
      "Note: you may need to restart the kernel to use updated packages.\n"
     ]
    }
   ],
   "source": [
    "%pip install flask"
   ]
  },
  {
   "cell_type": "code",
   "execution_count": null,
   "metadata": {},
   "outputs": [],
   "source": [
    "from flask import Flask , Response , redirect\n",
    "app = Flask(\"\")#__name__)\n",
    "\n",
    "@app.route('/')\n",
    "def hello():\n",
    "    return redirect(\"/index.html\", code=302)\n",
    "\n",
    "get_resource = lambda *args:\"<html><head/><body/></html>\"\n",
    "\n",
    "@app.route('/<path:path>')\n",
    "def __get_resource( path ):  # pragma: no cover\n",
    "    global get_resource\n",
    "    return get_resource( path )\n",
    "\n",
    "app.debug = False\n",
    "# launcher = lambda: [ app.run(host='127.0.0.1',port=18080 ) for _ in range( 3 ) ]\n",
    "launcher = lambda: [ app.run(host='127.0.0.1',port=18080, debug=True, threaded=True ) for _ in range( 3 ) ]\n"
   ]
  },
  {
   "cell_type": "code",
   "execution_count": 5,
   "metadata": {},
   "outputs": [
    {
     "name": "stdout",
     "output_type": "stream",
     "text": [
      " * Serving Flask app ''\n"
     ]
    }
   ],
   "source": [
    "\n",
    "### em ambiente de testes\n",
    "from threading import Thread\n",
    "Thread(target=launcher, args=() ).start() ### inicia asincrono, uma thread em loop trabalhando no server enquanto mechemos no get_resource abaixo ou outras @app.route('/') .\n",
    "\n",
    "### em ambiente produção\n",
    "# launcher()"
   ]
  },
  {
   "cell_type": "markdown",
   "metadata": {},
   "source": [
    "## FLASK <--> SQL "
   ]
  },
  {
   "cell_type": "code",
   "execution_count": null,
   "metadata": {},
   "outputs": [],
   "source": [
    "raise Exception(\"Sample, não usar ainda.\")"
   ]
  },
  {
   "cell_type": "code",
   "execution_count": 7,
   "metadata": {},
   "outputs": [
    {
     "name": "stdout",
     "output_type": "stream",
     "text": [
      "Collecting sqlalchemy\n",
      "  Downloading SQLAlchemy-2.0.22-cp38-cp38-manylinux_2_17_x86_64.manylinux2014_x86_64.whl.metadata (9.4 kB)\n",
      "Requirement already satisfied: typing-extensions>=4.2.0 in ./.venv/lib/python3.8/site-packages (from sqlalchemy) (4.8.0)\n",
      "Collecting greenlet!=0.4.17 (from sqlalchemy)\n",
      "  Downloading greenlet-3.0.1-cp38-cp38-manylinux_2_24_x86_64.manylinux_2_28_x86_64.whl.metadata (3.7 kB)\n",
      "Downloading SQLAlchemy-2.0.22-cp38-cp38-manylinux_2_17_x86_64.manylinux2014_x86_64.whl (3.1 MB)\n",
      "\u001b[2K   \u001b[90m━━━━━━━━━━━━━━━━━━━━━━━━━━━━━━━━━━━━━━━━\u001b[0m \u001b[32m3.1/3.1 MB\u001b[0m \u001b[31m28.0 MB/s\u001b[0m eta \u001b[36m0:00:00\u001b[0m00:01\u001b[0m00:01\u001b[0m\n",
      "\u001b[?25hDownloading greenlet-3.0.1-cp38-cp38-manylinux_2_24_x86_64.manylinux_2_28_x86_64.whl (618 kB)\n",
      "\u001b[2K   \u001b[90m━━━━━━━━━━━━━━━━━━━━━━━━━━━━━━━━━━━━━━━━\u001b[0m \u001b[32m618.6/618.6 kB\u001b[0m \u001b[31m15.7 MB/s\u001b[0m eta \u001b[36m0:00:00\u001b[0m00:01\u001b[0m\n",
      "\u001b[?25hInstalling collected packages: greenlet, sqlalchemy\n",
      "Successfully installed greenlet-3.0.1 sqlalchemy-2.0.22\n",
      "Note: you may need to restart the kernel to use updated packages.\n"
     ]
    }
   ],
   "source": [
    "%pip install sqlalchemy"
   ]
  },
  {
   "cell_type": "code",
   "execution_count": null,
   "metadata": {},
   "outputs": [],
   "source": [
    "import sqlite3\n",
    "conn = sqlite3.connect( \"db.sqlite\" )\n",
    "# conn.execute( \"CREATE TABLE IF NOT EXISTS users ( id INTEGER PRIMARY KEY AUTOINCREMENT, name TEXT, email TEXT )\" ).close()"
   ]
  },
  {
   "cell_type": "code",
   "execution_count": 8,
   "metadata": {},
   "outputs": [],
   "source": [
    "\n",
    "from sqlalchemy import Integer, String\n",
    "from sqlalchemy.orm import Mapped, mapped_column\n",
    "\n",
    "from sqlalchemy import create_engine, desc, asc\n",
    "from sqlalchemy.orm import sessionmaker\n",
    "from sqlalchemy.ext.automap import automap_base\n"
   ]
  },
  {
   "cell_type": "code",
   "execution_count": null,
   "metadata": {},
   "outputs": [],
   "source": [
    "from flask import Flask, request\n",
    "from flask_sqlalchemy import SQLAlchemy\n",
    "# from flask_marshmallow import Marshmallow\n",
    "from flask_restful import Api, Resource\n"
   ]
  },
  {
   "cell_type": "code",
   "execution_count": null,
   "metadata": {},
   "outputs": [],
   "source": [
    "app.config['SQLALCHEMY_DATABASE_URI'] = 'sqlite:///test.sqlite3'\n",
    "# app.config['SQLALCHEMY_DATABASE_URI'] = 'postgresql://<user>:<password>@localhost'\n",
    "db = SQLAlchemy(app)"
   ]
  },
  {
   "cell_type": "raw",
   "metadata": {},
   "source": [
    "    with resources.path(\n",
    "        \"project.data\", \"author_book_publisher.db\"\n",
    "    ) as sqlite_filepath:\n",
    "        engine = create_engine(f\"sqlite:///{sqlite_filepath}\")\n",
    "    Session = sessionmaker()\n",
    "    Session.configure(bind=engine)\n",
    "    session = Session()\n"
   ]
  },
  {
   "cell_type": "code",
   "execution_count": null,
   "metadata": {},
   "outputs": [],
   "source": []
  },
  {
   "cell_type": "code",
   "execution_count": null,
   "metadata": {},
   "outputs": [],
   "source": [
    "# Step 1: Install necessary packages\n",
    "# pip install flask flask_sqlalchemy\n",
    "\n",
    "from flask import Flask, request\n",
    "from flask_sqlalchemy import SQLAlchemy\n",
    "\n",
    "# Step 2: Set up Flask application\n",
    "app = Flask(__name__)\n",
    "\n",
    "# Step 3: Set up SQLAlchemy and SQLite database\n",
    "app.config['SQLALCHEMY_DATABASE_URI'] = 'sqlite:////tmp/test.db'\n",
    "db = SQLAlchemy(app)\n",
    "\n",
    "# Step 6: Run the Flask application\n",
    "if __name__ == '__main__':\n",
    "    db.create_all()\n",
    "    app.run(debug=True)"
   ]
  },
  {
   "cell_type": "markdown",
   "metadata": {},
   "source": [
    "## Usuario"
   ]
  },
  {
   "cell_type": "code",
   "execution_count": null,
   "metadata": {},
   "outputs": [],
   "source": [
    "class User(db.Model):\n",
    "    id = db.Column(db.Integer, primary_key=True)\n",
    "    name = db.Column(db.String(50), nullable=False)\n",
    "\n",
    "class users( db.Model ):\n",
    "    id: Mapped[int] = mapped_column(Integer, primary_key=True)\n",
    "    username: Mapped[str] = mapped_column(String)\n",
    "    email: Mapped[str] = mapped_column(String)\n",
    "\n",
    "@app.route('/user', methods=['POST'])\n",
    "def create_user():\n",
    "    name = request.json['name']\n",
    "    new_user = User(name=name)\n",
    "    db.session.add(new_user)\n",
    "    db.session.commit()\n",
    "    return {'id': new_user.id}, 201"
   ]
  },
  {
   "cell_type": "markdown",
   "metadata": {},
   "source": [
    "## Ocorrencias"
   ]
  },
  {
   "cell_type": "code",
   "execution_count": null,
   "metadata": {},
   "outputs": [],
   "source": [
    "class Occurrence(db.Model):\n",
    "    id = db.Column(db.Integer, primary_key=True)\n",
    "    description = db.Column(db.String(200), nullable=False)\n",
    "    user_id = db.Column(db.Integer, db.ForeignKey('user.id'), nullable=False)\n",
    "\n",
    "class ocorrencias( db.Model ):\n",
    "    id: Mapped[int] = mapped_column(Integer, primary_key=True)\n",
    "\n",
    "    userid: Mapped[int] = mapped_column(Integer, =True)\n",
    "    email: Mapped[str] = mapped_column(String)\n",
    "\n",
    "@app.route('/occurrence', methods=['POST'])\n",
    "def create_occurrence():\n",
    "    description = request.json['description']\n",
    "    user_id = request.json['user_id']\n",
    "    new_occurrence = Occurrence(description=description, user_id=user_id)\n",
    "    db.session.add(new_occurrence)\n",
    "    db.session.commit()\n",
    "    return {'id': new_occurrence.id}, 201\n"
   ]
  },
  {
   "cell_type": "markdown",
   "metadata": {},
   "source": [
    "## Arquivos / Fotos e videos"
   ]
  },
  {
   "cell_type": "code",
   "execution_count": null,
   "metadata": {},
   "outputs": [],
   "source": [
    "# Step 4: Define File model\n",
    "class File(db.Model):\n",
    "    id = db.Column(db.Integer, primary_key=True)\n",
    "    name = db.Column(db.String(50), nullable=False)\n",
    "    data = db.Column(db.LargeBinary, nullable=False)\n",
    "\n",
    "Requisitos obrigatórios:\n",
    "    Registro das pessoas que colaboram com as ocorrências\n",
    "    Registro das ocorrências\n",
    "    Incremento das ocorrências\n",
    "    Tipificação das ocorrências\n",
    "        Lixo\n",
    "        Buraco em pista\n",
    "        Assalto\n",
    "        Bueiro sem proteção\n",
    "        Placa danificada\n",
    "        Banco danificado\n",
    "        Calçada danificada\n",
    "        Entre outros\n",
    "    Anexar fotos\n",
    "    Anexar vídeos\n",
    "    Datar as ocorrências\n",
    "    Mostrar ocorrências (público):\n",
    "        Por tipo\n",
    "        Por área\n",
    "        Em mapas\n",
    "        Por horário"
   ]
  },
  {
   "cell_type": "code",
   "execution_count": null,
   "metadata": {},
   "outputs": [],
   "source": [
    "# Step 1: Install necessary packages\n",
    "# pip install flask flask_sqlalchemy\n",
    "\n",
    "from flask import Flask, request\n",
    "from flask_sqlalchemy import SQLAlchemy\n",
    "import os\n",
    "\n",
    "# Step 2: Set up Flask application\n",
    "app = Flask(__name__)\n",
    "\n",
    "# Step 3: Set up SQLAlchemy and SQLite database\n",
    "app.config['SQLALCHEMY_DATABASE_URI'] = 'sqlite:////tmp/test.db'\n",
    "app.config['UPLOAD_FOLDER'] = '/path/to/upload/folder'\n",
    "db = SQLAlchemy(app)\n",
    "\n",
    "\n",
    "# Step 5: Create route for file upload\n",
    "@app.route('/upload', methods=['POST'])\n",
    "def upload_file():\n",
    "    file = request.files['file']\n",
    "    new_file = File(name=file.filename, data=file.read())\n",
    "    db.session.add(new_file)\n",
    "    db.session.commit()\n",
    "    return {'id': new_file.id}, 201\n",
    "\n",
    "# Step 6: Run the Flask application\n",
    "if __name__ == '__main__':\n",
    "    db.create_all()\n",
    "    app.run(debug=True)"
   ]
  },
  {
   "cell_type": "code",
   "execution_count": null,
   "metadata": {},
   "outputs": [],
   "source": [
    "raise Exception(\"Sample, não usar ainda.\")\n",
    "\n",
    "from sqlalchemy import Integer, String\n",
    "from sqlalchemy.orm import Mapped, mapped_column\n",
    "\n",
    "from sqlalchemy import create_engine, desc, asc\n",
    "from sqlalchemy.orm import sessionmaker\n",
    "from sqlalchemy.ext.automap import automap_base\n",
    "\n",
    "\n",
    "class User(db.Model):\n",
    "    id: Mapped[int] = mapped_column(Integer, primary_key=True)\n",
    "    username: Mapped[str] = mapped_column(String, unique=True, nullable=False)\n",
    "    email: Mapped[str] = mapped_column(String)\n",
    "\n",
    "# with app.app_context():\n",
    "#     db.create_all()\n",
    "\n",
    "@app.route(\"/users\")\n",
    "def user_list():\n",
    "    users = db.session.execute(db.select(User).order_by(User.username)).scalars()\n",
    "    return render_template(\"user/list.html\", users=users)\n",
    "\n",
    "@app.route(\"/users/create\", methods=[\"GET\", \"POST\"])\n",
    "def user_create():\n",
    "    if request.method == \"POST\":\n",
    "        user = User(\n",
    "            username=request.form[\"username\"],\n",
    "            email=request.form[\"email\"],\n",
    "        )\n",
    "        db.session.add(user)\n",
    "        db.session.commit()\n",
    "        return redirect(url_for(\"user_detail\", id=user.id))\n",
    "    return render_template(\"user/create.html\")\n",
    "\n",
    "@app.route(\"/user/<int:id>\")\n",
    "def user_detail(id):\n",
    "    user = db.get_or_404(User, id)\n",
    "    return render_template(\"user/detail.html\", user=user)\n",
    "\n",
    "@app.route(\"/user/<int:id>/delete\", methods=[\"GET\", \"POST\"])\n",
    "def user_delete(id):\n",
    "    user = db.get_or_404(User, id)\n",
    "\n",
    "    if request.method == \"POST\":\n",
    "        db.session.delete(user)\n",
    "        db.session.commit()\n",
    "        return redirect(url_for(\"user_list\"))\n",
    "\n",
    "    return render_template(\"user/delete.html\", user=user)"
   ]
  }
 ],
 "metadata": {
  "kernelspec": {
   "display_name": ".venv",
   "language": "python",
   "name": "python3"
  },
  "language_info": {
   "codemirror_mode": {
    "name": "ipython",
    "version": 3
   },
   "file_extension": ".py",
   "mimetype": "text/x-python",
   "name": "python",
   "nbconvert_exporter": "python",
   "pygments_lexer": "ipython3",
   "version": "3.8.10"
  }
 },
 "nbformat": 4,
 "nbformat_minor": 2
}
