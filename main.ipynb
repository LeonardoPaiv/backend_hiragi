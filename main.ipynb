{
 "cells": [
  {
   "cell_type": "markdown",
   "metadata": {},
   "source": [
    "## programa notebook para rodar no jupyter, vscode ou equivalente.\n",
    "\n",
    "vinicius W"
   ]
  },
  {
   "cell_type": "markdown",
   "metadata": {},
   "source": [
    "## Flask ( http server )"
   ]
  },
  {
   "cell_type": "code",
   "execution_count": 1,
   "metadata": {},
   "outputs": [
    {
     "name": "stdout",
     "output_type": "stream",
     "text": [
      "Requirement already satisfied: flask in ./.venv/lib/python3.8/site-packages (3.0.0)\n",
      "Requirement already satisfied: Werkzeug>=3.0.0 in ./.venv/lib/python3.8/site-packages (from flask) (3.0.1)\n",
      "Requirement already satisfied: Jinja2>=3.1.2 in ./.venv/lib/python3.8/site-packages (from flask) (3.1.2)\n",
      "Requirement already satisfied: itsdangerous>=2.1.2 in ./.venv/lib/python3.8/site-packages (from flask) (2.1.2)\n",
      "Requirement already satisfied: click>=8.1.3 in ./.venv/lib/python3.8/site-packages (from flask) (8.1.7)\n",
      "Requirement already satisfied: blinker>=1.6.2 in ./.venv/lib/python3.8/site-packages (from flask) (1.6.3)\n",
      "Requirement already satisfied: importlib-metadata>=3.6.0 in ./.venv/lib/python3.8/site-packages (from flask) (6.8.0)\n",
      "Requirement already satisfied: zipp>=0.5 in ./.venv/lib/python3.8/site-packages (from importlib-metadata>=3.6.0->flask) (3.17.0)\n",
      "Requirement already satisfied: MarkupSafe>=2.0 in ./.venv/lib/python3.8/site-packages (from Jinja2>=3.1.2->flask) (2.1.3)\n",
      "Note: you may need to restart the kernel to use updated packages.\n"
     ]
    }
   ],
   "source": [
    "%pip install flask"
   ]
  },
  {
   "cell_type": "code",
   "execution_count": 15,
   "metadata": {},
   "outputs": [],
   "source": [
    "from flask import Flask , Response , redirect\n",
    "app = Flask(\"\")#__name__)\n",
    "\n",
    "@app.route('/')\n",
    "def hello():\n",
    "    return redirect(\"/index.html\", code=302)\n",
    "\n",
    "get_resource = lambda *args:\"<html><head/><body/></html>\"\n",
    "\n",
    "@app.route('/<path:path>')\n",
    "def __get_resource( path ):  # pragma: no cover\n",
    "    global get_resource\n",
    "    return get_resource( path )\n",
    "\n",
    "app.debug = False\n",
    "# launcher = lambda: [ app.run(host='127.0.0.1',port=18080 ) for _ in range( 3 ) ]\n",
    "launcher = lambda: [ app.run(host='127.0.0.1',port=18080, debug=False, threaded=True ) for _ in range( 3 ) ]\n"
   ]
  },
  {
   "cell_type": "code",
   "execution_count": null,
   "metadata": {},
   "outputs": [
    {
     "name": "stdout",
     "output_type": "stream",
     "text": [
      " * Serving Flask app ''\n",
      " * Debug mode: off\n"
     ]
    },
    {
     "name": "stderr",
     "output_type": "stream",
     "text": [
      "\u001b[31m\u001b[1mWARNING: This is a development server. Do not use it in a production deployment. Use a production WSGI server instead.\u001b[0m\n",
      " * Running on http://127.0.0.1:18080\n",
      "\u001b[33mPress CTRL+C to quit\u001b[0m\n"
     ]
    }
   ],
   "source": [
    "\n",
    "### em ambiente de testes\n",
    "from threading import Thread\n",
    "Thread(target=launcher, args=() ).start() ### inicia asincrono, uma thread em loop trabalhando no server enquanto mechemos no get_resource abaixo ou outras @app.route('/') .\n",
    "\n",
    "### em ambiente produção\n",
    "# launcher()"
   ]
  },
  {
   "cell_type": "markdown",
   "metadata": {},
   "source": [
    "## FLASK <--> SQL "
   ]
  },
  {
   "cell_type": "code",
   "execution_count": 5,
   "metadata": {},
   "outputs": [
    {
     "ename": "Exception",
     "evalue": "Sample, não usar ainda.",
     "output_type": "error",
     "traceback": [
      "\u001b[0;31m---------------------------------------------------------------------------\u001b[0m",
      "\u001b[0;31mException\u001b[0m                                 Traceback (most recent call last)",
      "\u001b[1;32m/workspaces/backend_hiragi/main.ipynb Cell 7\u001b[0m line \u001b[0;36m1\n\u001b[0;32m----> <a href='vscode-notebook-cell://codespaces%2Bopulent-invention-7rwx65w5rp9frxjw/workspaces/backend_hiragi/main.ipynb#W6sdnNjb2RlLXJlbW90ZQ%3D%3D?line=0'>1</a>\u001b[0m \u001b[39mraise\u001b[39;00m \u001b[39mException\u001b[39;00m(\u001b[39m\"\u001b[39m\u001b[39mSample, não usar ainda.\u001b[39m\u001b[39m\"\u001b[39m)\n",
      "\u001b[0;31mException\u001b[0m: Sample, não usar ainda."
     ]
    }
   ],
   "source": [
    "raise Exception(\"Sample, não usar ainda.\")"
   ]
  },
  {
   "cell_type": "code",
   "execution_count": 6,
   "metadata": {},
   "outputs": [
    {
     "name": "stdout",
     "output_type": "stream",
     "text": [
      "Requirement already satisfied: sqlalchemy in ./.venv/lib/python3.8/site-packages (2.0.22)\n",
      "Requirement already satisfied: typing-extensions>=4.2.0 in ./.venv/lib/python3.8/site-packages (from sqlalchemy) (4.8.0)\n",
      "Requirement already satisfied: greenlet!=0.4.17 in ./.venv/lib/python3.8/site-packages (from sqlalchemy) (3.0.1)\n",
      "Note: you may need to restart the kernel to use updated packages.\n"
     ]
    }
   ],
   "source": [
    "%pip install sqlalchemy"
   ]
  },
  {
   "cell_type": "code",
   "execution_count": null,
   "metadata": {},
   "outputs": [],
   "source": [
    "import sqlite3\n",
    "conn = sqlite3.connect( \"db.sqlite\" )\n",
    "# conn.execute( \"CREATE TABLE IF NOT EXISTS users ( id INTEGER PRIMARY KEY AUTOINCREMENT, name TEXT, email TEXT )\" ).close()"
   ]
  },
  {
   "cell_type": "code",
   "execution_count": 7,
   "metadata": {},
   "outputs": [],
   "source": [
    "from sqlalchemy import Integer, String\n",
    "from sqlalchemy.orm import Mapped, mapped_column\n",
    "\n",
    "from sqlalchemy import create_engine, desc, asc\n",
    "from sqlalchemy.orm import sessionmaker\n",
    "from sqlalchemy.ext.automap import automap_base"
   ]
  },
  {
   "cell_type": "code",
   "execution_count": 11,
   "metadata": {},
   "outputs": [
    {
     "name": "stdout",
     "output_type": "stream",
     "text": [
      "Requirement already satisfied: flask_sqlalchemy in ./.venv/lib/python3.8/site-packages (3.1.1)\n",
      "Requirement already satisfied: flask>=2.2.5 in ./.venv/lib/python3.8/site-packages (from flask_sqlalchemy) (3.0.0)\n",
      "Requirement already satisfied: sqlalchemy>=2.0.16 in ./.venv/lib/python3.8/site-packages (from flask_sqlalchemy) (2.0.22)\n",
      "Requirement already satisfied: Werkzeug>=3.0.0 in ./.venv/lib/python3.8/site-packages (from flask>=2.2.5->flask_sqlalchemy) (3.0.1)\n",
      "Requirement already satisfied: Jinja2>=3.1.2 in ./.venv/lib/python3.8/site-packages (from flask>=2.2.5->flask_sqlalchemy) (3.1.2)\n",
      "Requirement already satisfied: itsdangerous>=2.1.2 in ./.venv/lib/python3.8/site-packages (from flask>=2.2.5->flask_sqlalchemy) (2.1.2)\n",
      "Requirement already satisfied: click>=8.1.3 in ./.venv/lib/python3.8/site-packages (from flask>=2.2.5->flask_sqlalchemy) (8.1.7)\n",
      "Requirement already satisfied: blinker>=1.6.2 in ./.venv/lib/python3.8/site-packages (from flask>=2.2.5->flask_sqlalchemy) (1.6.3)\n",
      "Requirement already satisfied: importlib-metadata>=3.6.0 in ./.venv/lib/python3.8/site-packages (from flask>=2.2.5->flask_sqlalchemy) (6.8.0)\n",
      "Requirement already satisfied: typing-extensions>=4.2.0 in ./.venv/lib/python3.8/site-packages (from sqlalchemy>=2.0.16->flask_sqlalchemy) (4.8.0)\n",
      "Requirement already satisfied: greenlet!=0.4.17 in ./.venv/lib/python3.8/site-packages (from sqlalchemy>=2.0.16->flask_sqlalchemy) (3.0.1)\n",
      "Requirement already satisfied: zipp>=0.5 in ./.venv/lib/python3.8/site-packages (from importlib-metadata>=3.6.0->flask>=2.2.5->flask_sqlalchemy) (3.17.0)\n",
      "Requirement already satisfied: MarkupSafe>=2.0 in ./.venv/lib/python3.8/site-packages (from Jinja2>=3.1.2->flask>=2.2.5->flask_sqlalchemy) (2.1.3)\n",
      "Note: you may need to restart the kernel to use updated packages.\n",
      "Collecting flask_restful\n",
      "  Downloading Flask_RESTful-0.3.10-py2.py3-none-any.whl.metadata (1.0 kB)\n",
      "Collecting aniso8601>=0.82 (from flask_restful)\n",
      "  Downloading aniso8601-9.0.1-py2.py3-none-any.whl (52 kB)\n",
      "\u001b[2K     \u001b[90m━━━━━━━━━━━━━━━━━━━━━━━━━━━━━━━━━━━━━━━━\u001b[0m \u001b[32m52.8/52.8 kB\u001b[0m \u001b[31m1.1 MB/s\u001b[0m eta \u001b[36m0:00:00\u001b[0mta \u001b[36m0:00:01\u001b[0m\n",
      "\u001b[?25hRequirement already satisfied: Flask>=0.8 in ./.venv/lib/python3.8/site-packages (from flask_restful) (3.0.0)\n",
      "Requirement already satisfied: six>=1.3.0 in ./.venv/lib/python3.8/site-packages (from flask_restful) (1.16.0)\n",
      "Collecting pytz (from flask_restful)\n",
      "  Downloading pytz-2023.3.post1-py2.py3-none-any.whl.metadata (22 kB)\n",
      "Requirement already satisfied: Werkzeug>=3.0.0 in ./.venv/lib/python3.8/site-packages (from Flask>=0.8->flask_restful) (3.0.1)\n",
      "Requirement already satisfied: Jinja2>=3.1.2 in ./.venv/lib/python3.8/site-packages (from Flask>=0.8->flask_restful) (3.1.2)\n",
      "Requirement already satisfied: itsdangerous>=2.1.2 in ./.venv/lib/python3.8/site-packages (from Flask>=0.8->flask_restful) (2.1.2)\n",
      "Requirement already satisfied: click>=8.1.3 in ./.venv/lib/python3.8/site-packages (from Flask>=0.8->flask_restful) (8.1.7)\n",
      "Requirement already satisfied: blinker>=1.6.2 in ./.venv/lib/python3.8/site-packages (from Flask>=0.8->flask_restful) (1.6.3)\n",
      "Requirement already satisfied: importlib-metadata>=3.6.0 in ./.venv/lib/python3.8/site-packages (from Flask>=0.8->flask_restful) (6.8.0)\n",
      "Requirement already satisfied: zipp>=0.5 in ./.venv/lib/python3.8/site-packages (from importlib-metadata>=3.6.0->Flask>=0.8->flask_restful) (3.17.0)\n",
      "Requirement already satisfied: MarkupSafe>=2.0 in ./.venv/lib/python3.8/site-packages (from Jinja2>=3.1.2->Flask>=0.8->flask_restful) (2.1.3)\n",
      "Downloading Flask_RESTful-0.3.10-py2.py3-none-any.whl (26 kB)\n",
      "Downloading pytz-2023.3.post1-py2.py3-none-any.whl (502 kB)\n",
      "\u001b[2K   \u001b[90m━━━━━━━━━━━━━━━━━━━━━━━━━━━━━━━━━━━━━━━━\u001b[0m \u001b[32m502.5/502.5 kB\u001b[0m \u001b[31m11.0 MB/s\u001b[0m eta \u001b[36m0:00:00\u001b[0m00:01\u001b[0m\n",
      "\u001b[?25hInstalling collected packages: pytz, aniso8601, flask_restful\n",
      "Successfully installed aniso8601-9.0.1 flask_restful-0.3.10 pytz-2023.3.post1\n",
      "Note: you may need to restart the kernel to use updated packages.\n"
     ]
    }
   ],
   "source": [
    "%pip install flask_sqlalchemy\n",
    "%pip install flask_restful"
   ]
  },
  {
   "cell_type": "code",
   "execution_count": 12,
   "metadata": {},
   "outputs": [],
   "source": [
    "# from flask import Flask, request\n",
    "from flask_sqlalchemy import SQLAlchemy\n",
    "# from flask_marshmallow import Marshmallow\n",
    "from flask_restful import Api, Resource\n"
   ]
  },
  {
   "cell_type": "code",
   "execution_count": 13,
   "metadata": {},
   "outputs": [],
   "source": [
    "app.config['SQLALCHEMY_DATABASE_URI'] = 'sqlite:///test.sqlite3'\n",
    "# app.config['SQLALCHEMY_DATABASE_URI'] = 'postgresql://<user>:<password>@localhost'\n",
    "db = SQLAlchemy(app)"
   ]
  },
  {
   "cell_type": "raw",
   "metadata": {},
   "source": [
    "    with resources.path(\n",
    "        \"project.data\", \"author_book_publisher.db\"\n",
    "    ) as sqlite_filepath:\n",
    "        engine = create_engine(f\"sqlite:///{sqlite_filepath}\")\n",
    "    Session = sessionmaker()\n",
    "    Session.configure(bind=engine)\n",
    "    session = Session()\n"
   ]
  },
  {
   "cell_type": "code",
   "execution_count": null,
   "metadata": {},
   "outputs": [],
   "source": []
  },
  {
   "cell_type": "code",
   "execution_count": null,
   "metadata": {},
   "outputs": [],
   "source": [
    "# Step 2: Set up Flask application\n",
    "app = Flask(__name__)\n",
    "\n",
    "# Step 3: Set up SQLAlchemy and SQLite database\n",
    "app.config['SQLALCHEMY_DATABASE_URI'] = 'sqlite:////tmp/test.db'\n",
    "db = SQLAlchemy(app)\n",
    "\n",
    "# Step 6: Run the Flask application\n",
    "if __name__ == '__main__':\n",
    "    db.create_all()\n",
    "    app.run(debug=True)"
   ]
  },
  {
   "cell_type": "markdown",
   "metadata": {},
   "source": [
    "## Usuario"
   ]
  },
  {
   "cell_type": "code",
   "execution_count": 14,
   "metadata": {},
   "outputs": [],
   "source": [
    "class User(db.Model):\n",
    "    id = db.Column(db.Integer, primary_key=True)\n",
    "    name = db.Column(db.String(50), nullable=False)\n",
    "\n",
    "class users( db.Model ):\n",
    "    id: Mapped[int] = mapped_column(Integer, primary_key=True)\n",
    "    username: Mapped[str] = mapped_column(String)\n",
    "    email: Mapped[str] = mapped_column(String)\n",
    "\n",
    "@app.route('/user', methods=['POST'])\n",
    "def create_user():\n",
    "    name = request.json['name']\n",
    "    new_user = User(name=name)\n",
    "    db.session.add(new_user)\n",
    "    db.session.commit()\n",
    "    return {'id': new_user.id}, 201"
   ]
  },
  {
   "cell_type": "markdown",
   "metadata": {},
   "source": [
    "## Ocorrencias"
   ]
  },
  {
   "cell_type": "code",
   "execution_count": 21,
   "metadata": {},
   "outputs": [
    {
     "ename": "AssertionError",
     "evalue": "The setup method 'route' can no longer be called on the application. It has already handled its first request, any changes will not be applied consistently.\nMake sure all imports, decorators, functions, etc. needed to set up the application are done before running it.",
     "output_type": "error",
     "traceback": [
      "\u001b[0;31m---------------------------------------------------------------------------\u001b[0m",
      "\u001b[0;31mAssertionError\u001b[0m                            Traceback (most recent call last)",
      "\u001b[1;32m/workspaces/backend_hiragi/main.ipynb Cell 20\u001b[0m line \u001b[0;36m1\n\u001b[1;32m      <a href='vscode-notebook-cell://codespaces%2Bopulent-invention-7rwx65w5rp9frxjw/workspaces/backend_hiragi/main.ipynb#X24sdnNjb2RlLXJlbW90ZQ%3D%3D?line=0'>1</a>\u001b[0m \u001b[39m# class Occurrence(db.Model):\u001b[39;00m\n\u001b[1;32m      <a href='vscode-notebook-cell://codespaces%2Bopulent-invention-7rwx65w5rp9frxjw/workspaces/backend_hiragi/main.ipynb#X24sdnNjb2RlLXJlbW90ZQ%3D%3D?line=1'>2</a>\u001b[0m \u001b[39m#     id = db.Column(db.Integer, primary_key=True)\u001b[39;00m\n\u001b[1;32m      <a href='vscode-notebook-cell://codespaces%2Bopulent-invention-7rwx65w5rp9frxjw/workspaces/backend_hiragi/main.ipynb#X24sdnNjb2RlLXJlbW90ZQ%3D%3D?line=2'>3</a>\u001b[0m \u001b[39m#     description = db.Column(db.String(200), nullable=False)\u001b[39;00m\n\u001b[0;32m   (...)\u001b[0m\n\u001b[1;32m      <a href='vscode-notebook-cell://codespaces%2Bopulent-invention-7rwx65w5rp9frxjw/workspaces/backend_hiragi/main.ipynb#X24sdnNjb2RlLXJlbW90ZQ%3D%3D?line=8'>9</a>\u001b[0m \u001b[39m#     userid: Mapped[int] = mapped_column(Integer)\u001b[39;00m\n\u001b[1;32m     <a href='vscode-notebook-cell://codespaces%2Bopulent-invention-7rwx65w5rp9frxjw/workspaces/backend_hiragi/main.ipynb#X24sdnNjb2RlLXJlbW90ZQ%3D%3D?line=9'>10</a>\u001b[0m \u001b[39m#     email: Mapped[str] = mapped_column(String)\u001b[39;00m\n\u001b[0;32m---> <a href='vscode-notebook-cell://codespaces%2Bopulent-invention-7rwx65w5rp9frxjw/workspaces/backend_hiragi/main.ipynb#X24sdnNjb2RlLXJlbW90ZQ%3D%3D?line=11'>12</a>\u001b[0m \u001b[39m@app\u001b[39m\u001b[39m.\u001b[39;49mroute(\u001b[39m'\u001b[39;49m\u001b[39m/occurrence\u001b[39;49m\u001b[39m'\u001b[39;49m, methods\u001b[39m=\u001b[39;49m[\u001b[39m'\u001b[39;49m\u001b[39mPOST\u001b[39;49m\u001b[39m'\u001b[39;49m])\n\u001b[1;32m     <a href='vscode-notebook-cell://codespaces%2Bopulent-invention-7rwx65w5rp9frxjw/workspaces/backend_hiragi/main.ipynb#X24sdnNjb2RlLXJlbW90ZQ%3D%3D?line=12'>13</a>\u001b[0m \u001b[39mdef\u001b[39;00m \u001b[39mcreate_occurrence\u001b[39m():\n\u001b[1;32m     <a href='vscode-notebook-cell://codespaces%2Bopulent-invention-7rwx65w5rp9frxjw/workspaces/backend_hiragi/main.ipynb#X24sdnNjb2RlLXJlbW90ZQ%3D%3D?line=13'>14</a>\u001b[0m     description \u001b[39m=\u001b[39m request\u001b[39m.\u001b[39mjson[\u001b[39m'\u001b[39m\u001b[39mdescription\u001b[39m\u001b[39m'\u001b[39m]\n\u001b[1;32m     <a href='vscode-notebook-cell://codespaces%2Bopulent-invention-7rwx65w5rp9frxjw/workspaces/backend_hiragi/main.ipynb#X24sdnNjb2RlLXJlbW90ZQ%3D%3D?line=14'>15</a>\u001b[0m     user_id \u001b[39m=\u001b[39m request\u001b[39m.\u001b[39mjson[\u001b[39m'\u001b[39m\u001b[39muser_id\u001b[39m\u001b[39m'\u001b[39m]\n",
      "File \u001b[0;32m/workspaces/backend_hiragi/.venv/lib/python3.8/site-packages/flask/sansio/scaffold.py:43\u001b[0m, in \u001b[0;36msetupmethod.<locals>.wrapper_func\u001b[0;34m(self, *args, **kwargs)\u001b[0m\n\u001b[1;32m     42\u001b[0m \u001b[39mdef\u001b[39;00m \u001b[39mwrapper_func\u001b[39m(\u001b[39mself\u001b[39m, \u001b[39m*\u001b[39margs: t\u001b[39m.\u001b[39mAny, \u001b[39m*\u001b[39m\u001b[39m*\u001b[39mkwargs: t\u001b[39m.\u001b[39mAny) \u001b[39m-\u001b[39m\u001b[39m>\u001b[39m t\u001b[39m.\u001b[39mAny:\n\u001b[0;32m---> 43\u001b[0m     \u001b[39mself\u001b[39;49m\u001b[39m.\u001b[39;49m_check_setup_finished(f_name)\n\u001b[1;32m     44\u001b[0m     \u001b[39mreturn\u001b[39;00m f(\u001b[39mself\u001b[39m, \u001b[39m*\u001b[39margs, \u001b[39m*\u001b[39m\u001b[39m*\u001b[39mkwargs)\n",
      "File \u001b[0;32m/workspaces/backend_hiragi/.venv/lib/python3.8/site-packages/flask/sansio/app.py:417\u001b[0m, in \u001b[0;36mApp._check_setup_finished\u001b[0;34m(self, f_name)\u001b[0m\n\u001b[1;32m    415\u001b[0m \u001b[39mdef\u001b[39;00m \u001b[39m_check_setup_finished\u001b[39m(\u001b[39mself\u001b[39m, f_name: \u001b[39mstr\u001b[39m) \u001b[39m-\u001b[39m\u001b[39m>\u001b[39m \u001b[39mNone\u001b[39;00m:\n\u001b[1;32m    416\u001b[0m     \u001b[39mif\u001b[39;00m \u001b[39mself\u001b[39m\u001b[39m.\u001b[39m_got_first_request:\n\u001b[0;32m--> 417\u001b[0m         \u001b[39mraise\u001b[39;00m \u001b[39mAssertionError\u001b[39;00m(\n\u001b[1;32m    418\u001b[0m             \u001b[39mf\u001b[39m\u001b[39m\"\u001b[39m\u001b[39mThe setup method \u001b[39m\u001b[39m'\u001b[39m\u001b[39m{\u001b[39;00mf_name\u001b[39m}\u001b[39;00m\u001b[39m'\u001b[39m\u001b[39m can no longer be called\u001b[39m\u001b[39m\"\u001b[39m\n\u001b[1;32m    419\u001b[0m             \u001b[39m\"\u001b[39m\u001b[39m on the application. It has already handled its first\u001b[39m\u001b[39m\"\u001b[39m\n\u001b[1;32m    420\u001b[0m             \u001b[39m\"\u001b[39m\u001b[39m request, any changes will not be applied\u001b[39m\u001b[39m\"\u001b[39m\n\u001b[1;32m    421\u001b[0m             \u001b[39m\"\u001b[39m\u001b[39m consistently.\u001b[39m\u001b[39m\\n\u001b[39;00m\u001b[39m\"\u001b[39m\n\u001b[1;32m    422\u001b[0m             \u001b[39m\"\u001b[39m\u001b[39mMake sure all imports, decorators, functions, etc.\u001b[39m\u001b[39m\"\u001b[39m\n\u001b[1;32m    423\u001b[0m             \u001b[39m\"\u001b[39m\u001b[39m needed to set up the application are done before\u001b[39m\u001b[39m\"\u001b[39m\n\u001b[1;32m    424\u001b[0m             \u001b[39m\"\u001b[39m\u001b[39m running it.\u001b[39m\u001b[39m\"\u001b[39m\n\u001b[1;32m    425\u001b[0m         )\n",
      "\u001b[0;31mAssertionError\u001b[0m: The setup method 'route' can no longer be called on the application. It has already handled its first request, any changes will not be applied consistently.\nMake sure all imports, decorators, functions, etc. needed to set up the application are done before running it."
     ]
    }
   ],
   "source": [
    "# class Occurrence(db.Model):\n",
    "#     id = db.Column(db.Integer, primary_key=True)\n",
    "#     description = db.Column(db.String(200), nullable=False)\n",
    "#     user_id = db.Column(db.Integer, db.ForeignKey('user.id'), nullable=False)\n",
    "\n",
    "# class ocorrencias( db.Model ):\n",
    "#     id: Mapped[int] = mapped_column(Integer, primary_key=True)\n",
    "\n",
    "#     userid: Mapped[int] = mapped_column(Integer)\n",
    "#     email: Mapped[str] = mapped_column(String)\n",
    "\n",
    "@app.route('/occurrence', methods=['POST'])\n",
    "def create_occurrence():\n",
    "    description = request.json['description']\n",
    "    user_id = request.json['user_id']\n",
    "    new_occurrence = Occurrence(description=description, user_id=user_id)\n",
    "    db.session.add(new_occurrence)\n",
    "    db.session.commit()\n",
    "    return {'id': new_occurrence.id}, 201\n"
   ]
  },
  {
   "cell_type": "markdown",
   "metadata": {},
   "source": [
    "## Arquivos / Fotos e videos"
   ]
  },
  {
   "cell_type": "code",
   "execution_count": null,
   "metadata": {},
   "outputs": [],
   "source": [
    "# Step 4: Define File model\n",
    "class File(db.Model):\n",
    "    id = db.Column(db.Integer, primary_key=True)\n",
    "    name = db.Column(db.String(50), nullable=False)\n",
    "    data = db.Column(db.LargeBinary, nullable=False)\n",
    "\n",
    "Requisitos obrigatórios:\n",
    "    Registro das pessoas que colaboram com as ocorrências\n",
    "    Registro das ocorrências\n",
    "    Incremento das ocorrências\n",
    "    Tipificação das ocorrências\n",
    "        Lixo\n",
    "        Buraco em pista\n",
    "        Assalto\n",
    "        Bueiro sem proteção\n",
    "        Placa danificada\n",
    "        Banco danificado\n",
    "        Calçada danificada\n",
    "        Entre outros\n",
    "    Anexar fotos\n",
    "    Anexar vídeos\n",
    "    Datar as ocorrências\n",
    "    Mostrar ocorrências (público):\n",
    "        Por tipo\n",
    "        Por área\n",
    "        Em mapas\n",
    "        Por horário"
   ]
  },
  {
   "cell_type": "code",
   "execution_count": null,
   "metadata": {},
   "outputs": [],
   "source": [
    "app.config['SQLALCHEMY_DATABASE_URI'] = 'sqlite:////tmp/test.db'\n",
    "app.config['UPLOAD_FOLDER'] = '/path/to/upload/folder'\n",
    "# db = SQLAlchemy(app)\n",
    "\n",
    "\n",
    "# Step 5: Create route for file upload\n",
    "@app.route('/upload', methods=['POST'])\n",
    "def upload_file():\n",
    "    file = request.files['file']\n",
    "    new_file = File(name=file.filename, data=file.read())\n",
    "    db.session.add(new_file)\n",
    "    db.session.commit()\n",
    "    return {'id': new_file.id}, 201\n",
    "\n",
    "# Step 6: Run the Flask application\n",
    "if __name__ == '__main__':\n",
    "    db.create_all()\n",
    "    app.run(debug=True)"
   ]
  },
  {
   "cell_type": "code",
   "execution_count": 19,
   "metadata": {},
   "outputs": [
    {
     "ename": "Exception",
     "evalue": "Sample, não usar ainda.",
     "output_type": "error",
     "traceback": [
      "\u001b[0;31m---------------------------------------------------------------------------\u001b[0m",
      "\u001b[0;31mException\u001b[0m                                 Traceback (most recent call last)",
      "\u001b[1;32m/workspaces/backend_hiragi/main.ipynb Cell 24\u001b[0m line \u001b[0;36m1\n\u001b[0;32m----> <a href='vscode-notebook-cell://codespaces%2Bopulent-invention-7rwx65w5rp9frxjw/workspaces/backend_hiragi/main.ipynb#X31sdnNjb2RlLXJlbW90ZQ%3D%3D?line=0'>1</a>\u001b[0m \u001b[39mraise\u001b[39;00m \u001b[39mException\u001b[39;00m(\u001b[39m\"\u001b[39m\u001b[39mSample, não usar ainda.\u001b[39m\u001b[39m\"\u001b[39m)\n\u001b[1;32m      <a href='vscode-notebook-cell://codespaces%2Bopulent-invention-7rwx65w5rp9frxjw/workspaces/backend_hiragi/main.ipynb#X31sdnNjb2RlLXJlbW90ZQ%3D%3D?line=2'>3</a>\u001b[0m \u001b[39mfrom\u001b[39;00m \u001b[39msqlalchemy\u001b[39;00m \u001b[39mimport\u001b[39;00m Integer, String\n\u001b[1;32m      <a href='vscode-notebook-cell://codespaces%2Bopulent-invention-7rwx65w5rp9frxjw/workspaces/backend_hiragi/main.ipynb#X31sdnNjb2RlLXJlbW90ZQ%3D%3D?line=3'>4</a>\u001b[0m \u001b[39mfrom\u001b[39;00m \u001b[39msqlalchemy\u001b[39;00m\u001b[39m.\u001b[39;00m\u001b[39morm\u001b[39;00m \u001b[39mimport\u001b[39;00m Mapped, mapped_column\n",
      "\u001b[0;31mException\u001b[0m: Sample, não usar ainda."
     ]
    }
   ],
   "source": [
    "raise Exception(\"Sample, não usar ainda.\")\n",
    "\n",
    "from sqlalchemy import Integer, String\n",
    "from sqlalchemy.orm import Mapped, mapped_column\n",
    "\n",
    "from sqlalchemy import create_engine, desc, asc\n",
    "from sqlalchemy.orm import sessionmaker\n",
    "from sqlalchemy.ext.automap import automap_base\n",
    "\n",
    "\n",
    "class User(db.Model):\n",
    "    id: Mapped[int] = mapped_column(Integer, primary_key=True)\n",
    "    username: Mapped[str] = mapped_column(String, unique=True, nullable=False)\n",
    "    email: Mapped[str] = mapped_column(String)\n",
    "\n",
    "# with app.app_context():\n",
    "#     db.create_all()\n",
    "\n",
    "@app.route(\"/users\")\n",
    "def user_list():\n",
    "    users = db.session.execute(db.select(User).order_by(User.username)).scalars()\n",
    "    return render_template(\"user/list.html\", users=users)\n",
    "\n",
    "@app.route(\"/users/create\", methods=[\"GET\", \"POST\"])\n",
    "def user_create():\n",
    "    if request.method == \"POST\":\n",
    "        user = User(\n",
    "            username=request.form[\"username\"],\n",
    "            email=request.form[\"email\"],\n",
    "        )\n",
    "        db.session.add(user)\n",
    "        db.session.commit()\n",
    "        return redirect(url_for(\"user_detail\", id=user.id))\n",
    "    return render_template(\"user/create.html\")\n",
    "\n",
    "@app.route(\"/user/<int:id>\")\n",
    "def user_detail(id):\n",
    "    user = db.get_or_404(User, id)\n",
    "    return render_template(\"user/detail.html\", user=user)\n",
    "\n",
    "@app.route(\"/user/<int:id>/delete\", methods=[\"GET\", \"POST\"])\n",
    "def user_delete(id):\n",
    "    user = db.get_or_404(User, id)\n",
    "\n",
    "    if request.method == \"POST\":\n",
    "        db.session.delete(user)\n",
    "        db.session.commit()\n",
    "        return redirect(url_for(\"user_list\"))\n",
    "\n",
    "    return render_template(\"user/delete.html\", user=user)"
   ]
  }
 ],
 "metadata": {
  "kernelspec": {
   "display_name": ".venv",
   "language": "python",
   "name": "python3"
  },
  "language_info": {
   "codemirror_mode": {
    "name": "ipython",
    "version": 3
   },
   "file_extension": ".py",
   "mimetype": "text/x-python",
   "name": "python",
   "nbconvert_exporter": "python",
   "pygments_lexer": "ipython3",
   "version": "3.8.10"
  }
 },
 "nbformat": 4,
 "nbformat_minor": 2
}
